{
 "cells": [
  {
   "cell_type": "markdown",
   "metadata": {},
   "source": [
    "# Linear Regression"
   ]
  },
  {
   "cell_type": "markdown",
   "metadata": {},
   "source": [
    "# Import the libraries"
   ]
  },
  {
   "cell_type": "code",
   "execution_count": 1,
   "metadata": {},
   "outputs": [],
   "source": [
    "import warnings\n",
    "warnings.simplefilter(\"ignore\")"
   ]
  },
  {
   "cell_type": "markdown",
   "metadata": {},
   "source": [
    "# Import a data visualization library"
   ]
  },
  {
   "cell_type": "code",
   "execution_count": 28,
   "metadata": {},
   "outputs": [],
   "source": [
    "import matplotlib.pyplot as plt\n",
    "%matplotlib inline"
   ]
  },
  {
   "cell_type": "markdown",
   "metadata": {},
   "source": [
    "# Import pandas library"
   ]
  },
  {
   "cell_type": "code",
   "execution_count": 6,
   "metadata": {},
   "outputs": [],
   "source": [
    "import pandas as pd"
   ]
  },
  {
   "cell_type": "markdown",
   "metadata": {},
   "source": [
    "# Import numpy library"
   ]
  },
  {
   "cell_type": "code",
   "execution_count": 2,
   "metadata": {},
   "outputs": [],
   "source": [
    "import numpy as np"
   ]
  },
  {
   "cell_type": "markdown",
   "metadata": {},
   "source": [
    "# Import dataset"
   ]
  },
  {
   "cell_type": "code",
   "execution_count": 11,
   "metadata": {},
   "outputs": [],
   "source": [
    "dataset = pd.read_csv('insurance.csv')\n"
   ]
  },
  {
   "cell_type": "code",
   "execution_count": 10,
   "metadata": {},
   "outputs": [
    {
     "data": {
      "text/html": [
       "<div>\n",
       "<style scoped>\n",
       "    .dataframe tbody tr th:only-of-type {\n",
       "        vertical-align: middle;\n",
       "    }\n",
       "\n",
       "    .dataframe tbody tr th {\n",
       "        vertical-align: top;\n",
       "    }\n",
       "\n",
       "    .dataframe thead th {\n",
       "        text-align: right;\n",
       "    }\n",
       "</style>\n",
       "<table border=\"1\" class=\"dataframe\">\n",
       "  <thead>\n",
       "    <tr style=\"text-align: right;\">\n",
       "      <th></th>\n",
       "      <th>age</th>\n",
       "      <th>sex</th>\n",
       "      <th>bmi</th>\n",
       "      <th>children</th>\n",
       "      <th>smoker</th>\n",
       "      <th>region</th>\n",
       "      <th>charges</th>\n",
       "    </tr>\n",
       "  </thead>\n",
       "  <tbody>\n",
       "    <tr>\n",
       "      <th>0</th>\n",
       "      <td>19</td>\n",
       "      <td>female</td>\n",
       "      <td>27.900</td>\n",
       "      <td>0</td>\n",
       "      <td>yes</td>\n",
       "      <td>southwest</td>\n",
       "      <td>16884.92400</td>\n",
       "    </tr>\n",
       "    <tr>\n",
       "      <th>1</th>\n",
       "      <td>18</td>\n",
       "      <td>male</td>\n",
       "      <td>33.770</td>\n",
       "      <td>1</td>\n",
       "      <td>no</td>\n",
       "      <td>southeast</td>\n",
       "      <td>1725.55230</td>\n",
       "    </tr>\n",
       "    <tr>\n",
       "      <th>2</th>\n",
       "      <td>28</td>\n",
       "      <td>male</td>\n",
       "      <td>33.000</td>\n",
       "      <td>3</td>\n",
       "      <td>no</td>\n",
       "      <td>southeast</td>\n",
       "      <td>4449.46200</td>\n",
       "    </tr>\n",
       "    <tr>\n",
       "      <th>3</th>\n",
       "      <td>33</td>\n",
       "      <td>male</td>\n",
       "      <td>22.705</td>\n",
       "      <td>0</td>\n",
       "      <td>no</td>\n",
       "      <td>northwest</td>\n",
       "      <td>21984.47061</td>\n",
       "    </tr>\n",
       "    <tr>\n",
       "      <th>4</th>\n",
       "      <td>32</td>\n",
       "      <td>male</td>\n",
       "      <td>28.880</td>\n",
       "      <td>0</td>\n",
       "      <td>no</td>\n",
       "      <td>northwest</td>\n",
       "      <td>3866.85520</td>\n",
       "    </tr>\n",
       "    <tr>\n",
       "      <th>...</th>\n",
       "      <td>...</td>\n",
       "      <td>...</td>\n",
       "      <td>...</td>\n",
       "      <td>...</td>\n",
       "      <td>...</td>\n",
       "      <td>...</td>\n",
       "      <td>...</td>\n",
       "    </tr>\n",
       "    <tr>\n",
       "      <th>1333</th>\n",
       "      <td>50</td>\n",
       "      <td>male</td>\n",
       "      <td>30.970</td>\n",
       "      <td>3</td>\n",
       "      <td>no</td>\n",
       "      <td>northwest</td>\n",
       "      <td>10600.54830</td>\n",
       "    </tr>\n",
       "    <tr>\n",
       "      <th>1334</th>\n",
       "      <td>18</td>\n",
       "      <td>female</td>\n",
       "      <td>31.920</td>\n",
       "      <td>0</td>\n",
       "      <td>no</td>\n",
       "      <td>northeast</td>\n",
       "      <td>2205.98080</td>\n",
       "    </tr>\n",
       "    <tr>\n",
       "      <th>1335</th>\n",
       "      <td>18</td>\n",
       "      <td>female</td>\n",
       "      <td>36.850</td>\n",
       "      <td>0</td>\n",
       "      <td>no</td>\n",
       "      <td>southeast</td>\n",
       "      <td>1629.83350</td>\n",
       "    </tr>\n",
       "    <tr>\n",
       "      <th>1336</th>\n",
       "      <td>21</td>\n",
       "      <td>female</td>\n",
       "      <td>25.800</td>\n",
       "      <td>0</td>\n",
       "      <td>no</td>\n",
       "      <td>southwest</td>\n",
       "      <td>2007.94500</td>\n",
       "    </tr>\n",
       "    <tr>\n",
       "      <th>1337</th>\n",
       "      <td>61</td>\n",
       "      <td>female</td>\n",
       "      <td>29.070</td>\n",
       "      <td>0</td>\n",
       "      <td>yes</td>\n",
       "      <td>northwest</td>\n",
       "      <td>29141.36030</td>\n",
       "    </tr>\n",
       "  </tbody>\n",
       "</table>\n",
       "<p>1338 rows × 7 columns</p>\n",
       "</div>"
      ],
      "text/plain": [
       "      age     sex     bmi  children smoker     region      charges\n",
       "0      19  female  27.900         0    yes  southwest  16884.92400\n",
       "1      18    male  33.770         1     no  southeast   1725.55230\n",
       "2      28    male  33.000         3     no  southeast   4449.46200\n",
       "3      33    male  22.705         0     no  northwest  21984.47061\n",
       "4      32    male  28.880         0     no  northwest   3866.85520\n",
       "...   ...     ...     ...       ...    ...        ...          ...\n",
       "1333   50    male  30.970         3     no  northwest  10600.54830\n",
       "1334   18  female  31.920         0     no  northeast   2205.98080\n",
       "1335   18  female  36.850         0     no  southeast   1629.83350\n",
       "1336   21  female  25.800         0     no  southwest   2007.94500\n",
       "1337   61  female  29.070         0    yes  northwest  29141.36030\n",
       "\n",
       "[1338 rows x 7 columns]"
      ]
     },
     "execution_count": 10,
     "metadata": {},
     "output_type": "execute_result"
    }
   ],
   "source": [
    "dataset"
   ]
  },
  {
   "cell_type": "markdown",
   "metadata": {},
   "source": [
    "# Let's understand the dataset"
   ]
  },
  {
   "cell_type": "code",
   "execution_count": 12,
   "metadata": {},
   "outputs": [
    {
     "data": {
      "text/plain": [
       "(1338, 7)"
      ]
     },
     "execution_count": 12,
     "metadata": {},
     "output_type": "execute_result"
    }
   ],
   "source": [
    "dataset.shape"
   ]
  },
  {
   "cell_type": "code",
   "execution_count": 13,
   "metadata": {},
   "outputs": [
    {
     "data": {
      "text/html": [
       "<div>\n",
       "<style scoped>\n",
       "    .dataframe tbody tr th:only-of-type {\n",
       "        vertical-align: middle;\n",
       "    }\n",
       "\n",
       "    .dataframe tbody tr th {\n",
       "        vertical-align: top;\n",
       "    }\n",
       "\n",
       "    .dataframe thead th {\n",
       "        text-align: right;\n",
       "    }\n",
       "</style>\n",
       "<table border=\"1\" class=\"dataframe\">\n",
       "  <thead>\n",
       "    <tr style=\"text-align: right;\">\n",
       "      <th></th>\n",
       "      <th>age</th>\n",
       "      <th>sex</th>\n",
       "      <th>bmi</th>\n",
       "      <th>children</th>\n",
       "      <th>smoker</th>\n",
       "      <th>region</th>\n",
       "      <th>charges</th>\n",
       "    </tr>\n",
       "  </thead>\n",
       "  <tbody>\n",
       "    <tr>\n",
       "      <th>0</th>\n",
       "      <td>19</td>\n",
       "      <td>female</td>\n",
       "      <td>27.900</td>\n",
       "      <td>0</td>\n",
       "      <td>yes</td>\n",
       "      <td>southwest</td>\n",
       "      <td>16884.92400</td>\n",
       "    </tr>\n",
       "    <tr>\n",
       "      <th>1</th>\n",
       "      <td>18</td>\n",
       "      <td>male</td>\n",
       "      <td>33.770</td>\n",
       "      <td>1</td>\n",
       "      <td>no</td>\n",
       "      <td>southeast</td>\n",
       "      <td>1725.55230</td>\n",
       "    </tr>\n",
       "    <tr>\n",
       "      <th>2</th>\n",
       "      <td>28</td>\n",
       "      <td>male</td>\n",
       "      <td>33.000</td>\n",
       "      <td>3</td>\n",
       "      <td>no</td>\n",
       "      <td>southeast</td>\n",
       "      <td>4449.46200</td>\n",
       "    </tr>\n",
       "    <tr>\n",
       "      <th>3</th>\n",
       "      <td>33</td>\n",
       "      <td>male</td>\n",
       "      <td>22.705</td>\n",
       "      <td>0</td>\n",
       "      <td>no</td>\n",
       "      <td>northwest</td>\n",
       "      <td>21984.47061</td>\n",
       "    </tr>\n",
       "    <tr>\n",
       "      <th>4</th>\n",
       "      <td>32</td>\n",
       "      <td>male</td>\n",
       "      <td>28.880</td>\n",
       "      <td>0</td>\n",
       "      <td>no</td>\n",
       "      <td>northwest</td>\n",
       "      <td>3866.85520</td>\n",
       "    </tr>\n",
       "  </tbody>\n",
       "</table>\n",
       "</div>"
      ],
      "text/plain": [
       "   age     sex     bmi  children smoker     region      charges\n",
       "0   19  female  27.900         0    yes  southwest  16884.92400\n",
       "1   18    male  33.770         1     no  southeast   1725.55230\n",
       "2   28    male  33.000         3     no  southeast   4449.46200\n",
       "3   33    male  22.705         0     no  northwest  21984.47061\n",
       "4   32    male  28.880         0     no  northwest   3866.85520"
      ]
     },
     "execution_count": 13,
     "metadata": {},
     "output_type": "execute_result"
    }
   ],
   "source": [
    "dataset.head()"
   ]
  },
  {
   "cell_type": "markdown",
   "metadata": {},
   "source": [
    "# Reading the values"
   ]
  },
  {
   "cell_type": "code",
   "execution_count": 20,
   "metadata": {},
   "outputs": [],
   "source": [
    "x = dataset.iloc[:,0]"
   ]
  },
  {
   "cell_type": "code",
   "execution_count": 21,
   "metadata": {},
   "outputs": [
    {
     "data": {
      "text/plain": [
       "(1338,)"
      ]
     },
     "execution_count": 21,
     "metadata": {},
     "output_type": "execute_result"
    }
   ],
   "source": [
    "x.shape"
   ]
  },
  {
   "cell_type": "code",
   "execution_count": 22,
   "metadata": {},
   "outputs": [],
   "source": [
    "x = dataset.iloc[:,0].values.reshape(-1,1)"
   ]
  },
  {
   "cell_type": "code",
   "execution_count": 23,
   "metadata": {},
   "outputs": [
    {
     "data": {
      "text/plain": [
       "(1338, 1)"
      ]
     },
     "execution_count": 23,
     "metadata": {},
     "output_type": "execute_result"
    }
   ],
   "source": [
    "x.shape"
   ]
  },
  {
   "cell_type": "code",
   "execution_count": 24,
   "metadata": {},
   "outputs": [],
   "source": [
    "y = dataset.iloc[:,-1].values.reshape(-1,1)"
   ]
  },
  {
   "cell_type": "code",
   "execution_count": 25,
   "metadata": {},
   "outputs": [
    {
     "data": {
      "text/plain": [
       "(1338, 1)"
      ]
     },
     "execution_count": 25,
     "metadata": {},
     "output_type": "execute_result"
    }
   ],
   "source": [
    "y.shape"
   ]
  },
  {
   "cell_type": "code",
   "execution_count": 26,
   "metadata": {},
   "outputs": [
    {
     "data": {
      "text/plain": [
       "array([[16884.924 ],\n",
       "       [ 1725.5523],\n",
       "       [ 4449.462 ],\n",
       "       ...,\n",
       "       [ 1629.8335],\n",
       "       [ 2007.945 ],\n",
       "       [29141.3603]])"
      ]
     },
     "execution_count": 26,
     "metadata": {},
     "output_type": "execute_result"
    }
   ],
   "source": [
    "y"
   ]
  },
  {
   "cell_type": "markdown",
   "metadata": {},
   "source": [
    "# Scatter plot"
   ]
  },
  {
   "cell_type": "code",
   "execution_count": 29,
   "metadata": {},
   "outputs": [
    {
     "data": {
      "image/png": "[encoded data removed]",
      "text/plain": [
       "<Figure size 432x288 with 1 Axes>"
      ]
     },
     "metadata": {
      "needs_background": "light"
     },
     "output_type": "display_data"
    }
   ],
   "source": [
    "plt.scatter(x,y)\n",
    "plt.show()"
   ]
  },
  {
   "cell_type": "markdown",
   "metadata": {},
   "source": [
    "# Divide the dataset into training set and testing set"
   ]
  },
  {
   "cell_type": "code",
   "execution_count": 30,
   "metadata": {},
   "outputs": [],
   "source": [
    "from sklearn.model_selection import train_test_split"
   ]
  },
  {
   "cell_type": "code",
   "execution_count": 31,
   "metadata": {},
   "outputs": [],
   "source": [
    "x_train, x_test, y_train, y_test = train_test_split(x,y, test_size = 0.2, random_state = 0)"
   ]
  },
  {
   "cell_type": "markdown",
   "metadata": {},
   "source": [
    "# Check the training and test sets"
   ]
  },
  {
   "cell_type": "code",
   "execution_count": 32,
   "metadata": {},
   "outputs": [
    {
     "data": {
      "text/plain": [
       "(1070, 1)"
      ]
     },
     "execution_count": 32,
     "metadata": {},
     "output_type": "execute_result"
    }
   ],
   "source": [
    "x_train.shape"
   ]
  },
  {
   "cell_type": "code",
   "execution_count": 33,
   "metadata": {},
   "outputs": [
    {
     "data": {
      "text/plain": [
       "(268, 1)"
      ]
     },
     "execution_count": 33,
     "metadata": {},
     "output_type": "execute_result"
    }
   ],
   "source": [
    "x_test.shape"
   ]
  },
  {
   "cell_type": "code",
   "execution_count": 34,
   "metadata": {},
   "outputs": [
    {
     "data": {
      "text/plain": [
       "(1070, 1)"
      ]
     },
     "execution_count": 34,
     "metadata": {},
     "output_type": "execute_result"
    }
   ],
   "source": [
    "y_train.shape"
   ]
  },
  {
   "cell_type": "code",
   "execution_count": 35,
   "metadata": {},
   "outputs": [
    {
     "data": {
      "text/plain": [
       "(268, 1)"
      ]
     },
     "execution_count": 35,
     "metadata": {},
     "output_type": "execute_result"
    }
   ],
   "source": [
    "y_test.shape"
   ]
  },
  {
   "cell_type": "markdown",
   "metadata": {},
   "source": [
    "# Import the function to perform Linear Regression"
   ]
  },
  {
   "cell_type": "code",
   "execution_count": 36,
   "metadata": {},
   "outputs": [],
   "source": [
    "from sklearn.linear_model import LinearRegression"
   ]
  },
  {
   "cell_type": "code",
   "execution_count": 37,
   "metadata": {},
   "outputs": [],
   "source": [
    "lm = LinearRegression()"
   ]
  },
  {
   "cell_type": "code",
   "execution_count": 38,
   "metadata": {},
   "outputs": [
    {
     "data": {
      "text/plain": [
       "LinearRegression()"
      ]
     },
     "execution_count": 38,
     "metadata": {},
     "output_type": "execute_result"
    }
   ],
   "source": [
    "lm.fit(x_train,y_train)"
   ]
  },
  {
   "cell_type": "markdown",
   "metadata": {},
   "source": [
    "# Predict the chances of admit"
   ]
  },
  {
   "cell_type": "code",
   "execution_count": 39,
   "metadata": {},
   "outputs": [],
   "source": [
    "y_pred = lm.predict(x_test)"
   ]
  },
  {
   "cell_type": "code",
   "execution_count": 40,
   "metadata": {},
   "outputs": [
    {
     "data": {
      "text/plain": [
       "array([[16278.18029845],\n",
       "       [15086.32245041],\n",
       "       [15324.69402002],\n",
       "       [18423.52442491],\n",
       "       [16039.80872884],\n",
       "       [11987.49204552],\n",
       "       [ 8173.54693181],\n",
       "       [16039.80872884],\n",
       "       [12940.97832395],\n",
       "       [11272.3773367 ],\n",
       "       [11987.49204552],\n",
       "       [15801.43715924],\n",
       "       [14132.83617199],\n",
       "       [11749.12047592],\n",
       "       [10318.89105828],\n",
       "       [15801.43715924],\n",
       "       [18185.15285531],\n",
       "       [10080.51948867],\n",
       "       [12940.97832395],\n",
       "       [ 8650.29007103],\n",
       "       [16039.80872884],\n",
       "       [17231.66657688],\n",
       "       [16278.18029845],\n",
       "       [15086.32245041],\n",
       "       [ 9127.03321024],\n",
       "       [11510.74890631],\n",
       "       [10557.26262788],\n",
       "       [13417.72146317],\n",
       "       [11272.3773367 ],\n",
       "       [14609.5793112 ],\n",
       "       [13417.72146317],\n",
       "       [17946.7812857 ],\n",
       "       [18661.89599452],\n",
       "       [16993.29500727],\n",
       "       [ 9603.77634946],\n",
       "       [11034.0057671 ],\n",
       "       [14847.95088081],\n",
       "       [10557.26262788],\n",
       "       [13417.72146317],\n",
       "       [ 8650.29007103],\n",
       "       [12464.23518474],\n",
       "       [10795.63419749],\n",
       "       [13179.34989356],\n",
       "       [17708.40971609],\n",
       "       [ 8173.54693181],\n",
       "       [ 8888.66164063],\n",
       "       [15801.43715924],\n",
       "       [13894.46460238],\n",
       "       [11034.0057671 ],\n",
       "       [17470.03814648],\n",
       "       [ 9365.40477985],\n",
       "       [ 8411.91850142],\n",
       "       [15324.69402002],\n",
       "       [16039.80872884],\n",
       "       [17708.40971609],\n",
       "       [10557.26262788],\n",
       "       [10080.51948867],\n",
       "       [15801.43715924],\n",
       "       [14132.83617199],\n",
       "       [18185.15285531],\n",
       "       [ 8411.91850142],\n",
       "       [18661.89599452],\n",
       "       [18185.15285531],\n",
       "       [15801.43715924],\n",
       "       [15324.69402002],\n",
       "       [16039.80872884],\n",
       "       [ 8411.91850142],\n",
       "       [11272.3773367 ],\n",
       "       [ 8888.66164063],\n",
       "       [13417.72146317],\n",
       "       [18423.52442491],\n",
       "       [17470.03814648],\n",
       "       [ 8650.29007103],\n",
       "       [18900.26756413],\n",
       "       [18185.15285531],\n",
       "       [18185.15285531],\n",
       "       [14847.95088081],\n",
       "       [14371.20774159],\n",
       "       [12702.60675435],\n",
       "       [18423.52442491],\n",
       "       [17231.66657688],\n",
       "       [14132.83617199],\n",
       "       [ 9127.03321024],\n",
       "       [14609.5793112 ],\n",
       "       [14132.83617199],\n",
       "       [11987.49204552],\n",
       "       [10080.51948867],\n",
       "       [10080.51948867],\n",
       "       [17946.7812857 ],\n",
       "       [11034.0057671 ],\n",
       "       [11510.74890631],\n",
       "       [16993.29500727],\n",
       "       [ 9842.14791906],\n",
       "       [14609.5793112 ],\n",
       "       [11987.49204552],\n",
       "       [11510.74890631],\n",
       "       [16993.29500727],\n",
       "       [14371.20774159],\n",
       "       [11272.3773367 ],\n",
       "       [17231.66657688],\n",
       "       [ 9365.40477985],\n",
       "       [12464.23518474],\n",
       "       [10557.26262788],\n",
       "       [12464.23518474],\n",
       "       [13894.46460238],\n",
       "       [10318.89105828],\n",
       "       [17231.66657688],\n",
       "       [10557.26262788],\n",
       "       [17708.40971609],\n",
       "       [18185.15285531],\n",
       "       [16754.92343766],\n",
       "       [11034.0057671 ],\n",
       "       [15324.69402002],\n",
       "       [ 8173.54693181],\n",
       "       [17470.03814648],\n",
       "       [13894.46460238],\n",
       "       [ 8650.29007103],\n",
       "       [15801.43715924],\n",
       "       [17946.7812857 ],\n",
       "       [14847.95088081],\n",
       "       [14132.83617199],\n",
       "       [16278.18029845],\n",
       "       [19138.63913373],\n",
       "       [11034.0057671 ],\n",
       "       [14371.20774159],\n",
       "       [10795.63419749],\n",
       "       [15086.32245041],\n",
       "       [14609.5793112 ],\n",
       "       [18185.15285531],\n",
       "       [ 8888.66164063],\n",
       "       [14371.20774159],\n",
       "       [ 8173.54693181],\n",
       "       [12940.97832395],\n",
       "       [16039.80872884],\n",
       "       [13894.46460238],\n",
       "       [11987.49204552],\n",
       "       [13894.46460238],\n",
       "       [15801.43715924],\n",
       "       [16516.55186806],\n",
       "       [ 9365.40477985],\n",
       "       [ 8650.29007103],\n",
       "       [16993.29500727],\n",
       "       [15563.06558963],\n",
       "       [16754.92343766],\n",
       "       [11987.49204552],\n",
       "       [19138.63913373],\n",
       "       [17946.7812857 ],\n",
       "       [ 9365.40477985],\n",
       "       [ 8411.91850142],\n",
       "       [16754.92343766],\n",
       "       [12940.97832395],\n",
       "       [10318.89105828],\n",
       "       [16039.80872884],\n",
       "       [ 8173.54693181],\n",
       "       [ 8411.91850142],\n",
       "       [13417.72146317],\n",
       "       [ 9127.03321024],\n",
       "       [ 8173.54693181],\n",
       "       [15801.43715924],\n",
       "       [15086.32245041],\n",
       "       [10318.89105828],\n",
       "       [18661.89599452],\n",
       "       [18185.15285531],\n",
       "       [16039.80872884],\n",
       "       [11510.74890631],\n",
       "       [ 9603.77634946],\n",
       "       [ 8411.91850142],\n",
       "       [11272.3773367 ],\n",
       "       [11272.3773367 ],\n",
       "       [ 8173.54693181],\n",
       "       [10318.89105828],\n",
       "       [10557.26262788],\n",
       "       [14132.83617199],\n",
       "       [ 9603.77634946],\n",
       "       [10318.89105828],\n",
       "       [ 9842.14791906],\n",
       "       [10557.26262788],\n",
       "       [13179.34989356],\n",
       "       [17946.7812857 ],\n",
       "       [ 8173.54693181],\n",
       "       [16278.18029845],\n",
       "       [12702.60675435],\n",
       "       [17470.03814648],\n",
       "       [10318.89105828],\n",
       "       [11987.49204552],\n",
       "       [18661.89599452],\n",
       "       [ 9127.03321024],\n",
       "       [ 8888.66164063],\n",
       "       [19138.63913373],\n",
       "       [15563.06558963],\n",
       "       [15801.43715924],\n",
       "       [10080.51948867],\n",
       "       [12464.23518474],\n",
       "       [15324.69402002],\n",
       "       [ 9842.14791906],\n",
       "       [ 9603.77634946],\n",
       "       [12702.60675435],\n",
       "       [11749.12047592],\n",
       "       [10795.63419749],\n",
       "       [11272.3773367 ],\n",
       "       [16754.92343766],\n",
       "       [19138.63913373],\n",
       "       [16993.29500727],\n",
       "       [11272.3773367 ],\n",
       "       [10795.63419749],\n",
       "       [15086.32245041],\n",
       "       [ 9842.14791906],\n",
       "       [16278.18029845],\n",
       "       [12225.86361513],\n",
       "       [ 8173.54693181],\n",
       "       [15324.69402002],\n",
       "       [18661.89599452],\n",
       "       [10557.26262788],\n",
       "       [ 9365.40477985],\n",
       "       [13656.09303277],\n",
       "       [ 9603.77634946],\n",
       "       [12464.23518474],\n",
       "       [11749.12047592],\n",
       "       [17946.7812857 ],\n",
       "       [12702.60675435],\n",
       "       [11987.49204552],\n",
       "       [13179.34989356],\n",
       "       [15324.69402002],\n",
       "       [ 9842.14791906],\n",
       "       [17708.40971609],\n",
       "       [19138.63913373],\n",
       "       [17231.66657688],\n",
       "       [17708.40971609],\n",
       "       [12940.97832395],\n",
       "       [ 9842.14791906],\n",
       "       [ 8173.54693181],\n",
       "       [14847.95088081],\n",
       "       [17946.7812857 ],\n",
       "       [ 8173.54693181],\n",
       "       [11510.74890631],\n",
       "       [13656.09303277],\n",
       "       [15324.69402002],\n",
       "       [ 9603.77634946],\n",
       "       [12940.97832395],\n",
       "       [16516.55186806],\n",
       "       [12940.97832395],\n",
       "       [ 8650.29007103],\n",
       "       [13656.09303277],\n",
       "       [14132.83617199],\n",
       "       [14132.83617199],\n",
       "       [16516.55186806],\n",
       "       [ 8888.66164063],\n",
       "       [14132.83617199],\n",
       "       [ 9127.03321024],\n",
       "       [13656.09303277],\n",
       "       [11034.0057671 ],\n",
       "       [18900.26756413],\n",
       "       [10080.51948867],\n",
       "       [ 9842.14791906],\n",
       "       [ 8173.54693181],\n",
       "       [ 8173.54693181],\n",
       "       [14609.5793112 ],\n",
       "       [ 8173.54693181],\n",
       "       [ 9842.14791906],\n",
       "       [10318.89105828],\n",
       "       [14609.5793112 ],\n",
       "       [15801.43715924],\n",
       "       [18661.89599452],\n",
       "       [18661.89599452],\n",
       "       [13656.09303277],\n",
       "       [17470.03814648],\n",
       "       [11034.0057671 ],\n",
       "       [14847.95088081]])"
      ]
     },
     "execution_count": 40,
     "metadata": {},
     "output_type": "execute_result"
    }
   ],
   "source": [
    "y_pred"
   ]
  },
  {
   "cell_type": "code",
   "execution_count": 41,
   "metadata": {},
   "outputs": [],
   "source": [
    "check = pd.DataFrame(x_test, columns = ['GRE Score'])"
   ]
  },
  {
   "cell_type": "code",
   "execution_count": 42,
   "metadata": {},
   "outputs": [
    {
     "data": {
      "text/html": [
       "<div>\n",
       "<style scoped>\n",
       "    .dataframe tbody tr th:only-of-type {\n",
       "        vertical-align: middle;\n",
       "    }\n",
       "\n",
       "    .dataframe tbody tr th {\n",
       "        vertical-align: top;\n",
       "    }\n",
       "\n",
       "    .dataframe thead th {\n",
       "        text-align: right;\n",
       "    }\n",
       "</style>\n",
       "<table border=\"1\" class=\"dataframe\">\n",
       "  <thead>\n",
       "    <tr style=\"text-align: right;\">\n",
       "      <th></th>\n",
       "      <th>GRE Score</th>\n",
       "    </tr>\n",
       "  </thead>\n",
       "  <tbody>\n",
       "    <tr>\n",
       "      <th>0</th>\n",
       "      <td>52</td>\n",
       "    </tr>\n",
       "    <tr>\n",
       "      <th>1</th>\n",
       "      <td>47</td>\n",
       "    </tr>\n",
       "    <tr>\n",
       "      <th>2</th>\n",
       "      <td>48</td>\n",
       "    </tr>\n",
       "    <tr>\n",
       "      <th>3</th>\n",
       "      <td>61</td>\n",
       "    </tr>\n",
       "    <tr>\n",
       "      <th>4</th>\n",
       "      <td>51</td>\n",
       "    </tr>\n",
       "    <tr>\n",
       "      <th>...</th>\n",
       "      <td>...</td>\n",
       "    </tr>\n",
       "    <tr>\n",
       "      <th>263</th>\n",
       "      <td>62</td>\n",
       "    </tr>\n",
       "    <tr>\n",
       "      <th>264</th>\n",
       "      <td>41</td>\n",
       "    </tr>\n",
       "    <tr>\n",
       "      <th>265</th>\n",
       "      <td>57</td>\n",
       "    </tr>\n",
       "    <tr>\n",
       "      <th>266</th>\n",
       "      <td>30</td>\n",
       "    </tr>\n",
       "    <tr>\n",
       "      <th>267</th>\n",
       "      <td>46</td>\n",
       "    </tr>\n",
       "  </tbody>\n",
       "</table>\n",
       "<p>268 rows × 1 columns</p>\n",
       "</div>"
      ],
      "text/plain": [
       "     GRE Score\n",
       "0           52\n",
       "1           47\n",
       "2           48\n",
       "3           61\n",
       "4           51\n",
       "..         ...\n",
       "263         62\n",
       "264         41\n",
       "265         57\n",
       "266         30\n",
       "267         46\n",
       "\n",
       "[268 rows x 1 columns]"
      ]
     },
     "execution_count": 42,
     "metadata": {},
     "output_type": "execute_result"
    }
   ],
   "source": [
    "check"
   ]
  },
  {
   "cell_type": "code",
   "execution_count": 45,
   "metadata": {},
   "outputs": [],
   "source": [
    "check['COA_Actual']= y_test"
   ]
  },
  {
   "cell_type": "code",
   "execution_count": 46,
   "metadata": {},
   "outputs": [
    {
     "data": {
      "text/html": [
       "<div>\n",
       "<style scoped>\n",
       "    .dataframe tbody tr th:only-of-type {\n",
       "        vertical-align: middle;\n",
       "    }\n",
       "\n",
       "    .dataframe tbody tr th {\n",
       "        vertical-align: top;\n",
       "    }\n",
       "\n",
       "    .dataframe thead th {\n",
       "        text-align: right;\n",
       "    }\n",
       "</style>\n",
       "<table border=\"1\" class=\"dataframe\">\n",
       "  <thead>\n",
       "    <tr style=\"text-align: right;\">\n",
       "      <th></th>\n",
       "      <th>GRE Score</th>\n",
       "      <th>COA_Predicted</th>\n",
       "      <th>COA_Actual</th>\n",
       "    </tr>\n",
       "  </thead>\n",
       "  <tbody>\n",
       "    <tr>\n",
       "      <th>0</th>\n",
       "      <td>52</td>\n",
       "      <td>16278.180298</td>\n",
       "      <td>9724.53000</td>\n",
       "    </tr>\n",
       "    <tr>\n",
       "      <th>1</th>\n",
       "      <td>47</td>\n",
       "      <td>15086.322450</td>\n",
       "      <td>8547.69130</td>\n",
       "    </tr>\n",
       "    <tr>\n",
       "      <th>2</th>\n",
       "      <td>48</td>\n",
       "      <td>15324.694020</td>\n",
       "      <td>45702.02235</td>\n",
       "    </tr>\n",
       "    <tr>\n",
       "      <th>3</th>\n",
       "      <td>61</td>\n",
       "      <td>18423.524425</td>\n",
       "      <td>12950.07120</td>\n",
       "    </tr>\n",
       "    <tr>\n",
       "      <th>4</th>\n",
       "      <td>51</td>\n",
       "      <td>16039.808729</td>\n",
       "      <td>9644.25250</td>\n",
       "    </tr>\n",
       "    <tr>\n",
       "      <th>...</th>\n",
       "      <td>...</td>\n",
       "      <td>...</td>\n",
       "      <td>...</td>\n",
       "    </tr>\n",
       "    <tr>\n",
       "      <th>263</th>\n",
       "      <td>62</td>\n",
       "      <td>18661.895995</td>\n",
       "      <td>15019.76005</td>\n",
       "    </tr>\n",
       "    <tr>\n",
       "      <th>264</th>\n",
       "      <td>41</td>\n",
       "      <td>13656.093033</td>\n",
       "      <td>6664.68595</td>\n",
       "    </tr>\n",
       "    <tr>\n",
       "      <th>265</th>\n",
       "      <td>57</td>\n",
       "      <td>17470.038146</td>\n",
       "      <td>20709.02034</td>\n",
       "    </tr>\n",
       "    <tr>\n",
       "      <th>266</th>\n",
       "      <td>30</td>\n",
       "      <td>11034.005767</td>\n",
       "      <td>40932.42950</td>\n",
       "    </tr>\n",
       "    <tr>\n",
       "      <th>267</th>\n",
       "      <td>46</td>\n",
       "      <td>14847.950881</td>\n",
       "      <td>9500.57305</td>\n",
       "    </tr>\n",
       "  </tbody>\n",
       "</table>\n",
       "<p>268 rows × 3 columns</p>\n",
       "</div>"
      ],
      "text/plain": [
       "     GRE Score  COA_Predicted   COA_Actual\n",
       "0           52   16278.180298   9724.53000\n",
       "1           47   15086.322450   8547.69130\n",
       "2           48   15324.694020  45702.02235\n",
       "3           61   18423.524425  12950.07120\n",
       "4           51   16039.808729   9644.25250\n",
       "..         ...            ...          ...\n",
       "263         62   18661.895995  15019.76005\n",
       "264         41   13656.093033   6664.68595\n",
       "265         57   17470.038146  20709.02034\n",
       "266         30   11034.005767  40932.42950\n",
       "267         46   14847.950881   9500.57305\n",
       "\n",
       "[268 rows x 3 columns]"
      ]
     },
     "execution_count": 46,
     "metadata": {},
     "output_type": "execute_result"
    }
   ],
   "source": [
    "check"
   ]
  },
  {
   "cell_type": "code",
   "execution_count": 47,
   "metadata": {},
   "outputs": [],
   "source": [
    "check['COA_Predicted']= y_pred"
   ]
  },
  {
   "cell_type": "code",
   "execution_count": 48,
   "metadata": {},
   "outputs": [
    {
     "data": {
      "text/html": [
       "<div>\n",
       "<style scoped>\n",
       "    .dataframe tbody tr th:only-of-type {\n",
       "        vertical-align: middle;\n",
       "    }\n",
       "\n",
       "    .dataframe tbody tr th {\n",
       "        vertical-align: top;\n",
       "    }\n",
       "\n",
       "    .dataframe thead th {\n",
       "        text-align: right;\n",
       "    }\n",
       "</style>\n",
       "<table border=\"1\" class=\"dataframe\">\n",
       "  <thead>\n",
       "    <tr style=\"text-align: right;\">\n",
       "      <th></th>\n",
       "      <th>GRE Score</th>\n",
       "      <th>COA_Predicted</th>\n",
       "      <th>COA_Actual</th>\n",
       "    </tr>\n",
       "  </thead>\n",
       "  <tbody>\n",
       "    <tr>\n",
       "      <th>0</th>\n",
       "      <td>52</td>\n",
       "      <td>16278.180298</td>\n",
       "      <td>9724.53000</td>\n",
       "    </tr>\n",
       "    <tr>\n",
       "      <th>1</th>\n",
       "      <td>47</td>\n",
       "      <td>15086.322450</td>\n",
       "      <td>8547.69130</td>\n",
       "    </tr>\n",
       "    <tr>\n",
       "      <th>2</th>\n",
       "      <td>48</td>\n",
       "      <td>15324.694020</td>\n",
       "      <td>45702.02235</td>\n",
       "    </tr>\n",
       "    <tr>\n",
       "      <th>3</th>\n",
       "      <td>61</td>\n",
       "      <td>18423.524425</td>\n",
       "      <td>12950.07120</td>\n",
       "    </tr>\n",
       "    <tr>\n",
       "      <th>4</th>\n",
       "      <td>51</td>\n",
       "      <td>16039.808729</td>\n",
       "      <td>9644.25250</td>\n",
       "    </tr>\n",
       "    <tr>\n",
       "      <th>...</th>\n",
       "      <td>...</td>\n",
       "      <td>...</td>\n",
       "      <td>...</td>\n",
       "    </tr>\n",
       "    <tr>\n",
       "      <th>263</th>\n",
       "      <td>62</td>\n",
       "      <td>18661.895995</td>\n",
       "      <td>15019.76005</td>\n",
       "    </tr>\n",
       "    <tr>\n",
       "      <th>264</th>\n",
       "      <td>41</td>\n",
       "      <td>13656.093033</td>\n",
       "      <td>6664.68595</td>\n",
       "    </tr>\n",
       "    <tr>\n",
       "      <th>265</th>\n",
       "      <td>57</td>\n",
       "      <td>17470.038146</td>\n",
       "      <td>20709.02034</td>\n",
       "    </tr>\n",
       "    <tr>\n",
       "      <th>266</th>\n",
       "      <td>30</td>\n",
       "      <td>11034.005767</td>\n",
       "      <td>40932.42950</td>\n",
       "    </tr>\n",
       "    <tr>\n",
       "      <th>267</th>\n",
       "      <td>46</td>\n",
       "      <td>14847.950881</td>\n",
       "      <td>9500.57305</td>\n",
       "    </tr>\n",
       "  </tbody>\n",
       "</table>\n",
       "<p>268 rows × 3 columns</p>\n",
       "</div>"
      ],
      "text/plain": [
       "     GRE Score  COA_Predicted   COA_Actual\n",
       "0           52   16278.180298   9724.53000\n",
       "1           47   15086.322450   8547.69130\n",
       "2           48   15324.694020  45702.02235\n",
       "3           61   18423.524425  12950.07120\n",
       "4           51   16039.808729   9644.25250\n",
       "..         ...            ...          ...\n",
       "263         62   18661.895995  15019.76005\n",
       "264         41   13656.093033   6664.68595\n",
       "265         57   17470.038146  20709.02034\n",
       "266         30   11034.005767  40932.42950\n",
       "267         46   14847.950881   9500.57305\n",
       "\n",
       "[268 rows x 3 columns]"
      ]
     },
     "execution_count": 48,
     "metadata": {},
     "output_type": "execute_result"
    }
   ],
   "source": [
    "check"
   ]
  },
  {
   "cell_type": "markdown",
   "metadata": {},
   "source": [
    "# Lets visualize the regressor line using matplotlib library"
   ]
  },
  {
   "cell_type": "code",
   "execution_count": 50,
   "metadata": {},
   "outputs": [
    {
     "data": {
      "text/plain": [
       "[<matplotlib.lines.Line2D at 0x1333111d2e0>]"
      ]
     },
     "execution_count": 50,
     "metadata": {},
     "output_type": "execute_result"
    },
    {
     "data": {
      "image/png": "[encoded data removed]",
      "text/plain": [
       "<Figure size 432x288 with 1 Axes>"
      ]
     },
     "metadata": {
      "needs_background": "light"
     },
     "output_type": "display_data"
    }
   ],
   "source": [
    "plt.scatter(x,y,color='blue')\n",
    "plt.plot(x_test, y_pred,color = 'red')"
   ]
  },
  {
   "cell_type": "code",
   "execution_count": null,
   "metadata": {},
   "outputs": [],
   "source": []
  }
 ],
 "metadata": {
  "kernelspec": {
   "display_name": "Python 3",
   "language": "python",
   "name": "python3"
  },
  "language_info": {
   "codemirror_mode": {
    "name": "ipython",
    "version": 3
   },
   "file_extension": ".py",
   "mimetype": "text/x-python",
   "name": "python",
   "nbconvert_exporter": "python",
   "pygments_lexer": "ipython3",
   "version": "3.8.5"
  }
 },
 "nbformat": 4,
 "nbformat_minor": 5
}
